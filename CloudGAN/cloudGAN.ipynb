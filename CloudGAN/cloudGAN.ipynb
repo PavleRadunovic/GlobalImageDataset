{
  "cells": [
    {
      "cell_type": "code",
      "execution_count": null,
      "metadata": {
        "id": "T7Lrk2n5QYG-"
      },
      "outputs": [],
      "source": [
        "!apt-get update -y\n",
        "!apt-get install python3.7\n",
        "!update-alternatives --install /usr/bin/python3 python3 /usr/bin/python3.7 1\n",
        "!update-alternatives --config python3\n",
        "!sudo apt-get install python3.7-distutils\n",
        "!apt-get install python3-pip\n",
        "!python -m pip install --upgrade pip"
      ]
    },
    {
      "cell_type": "code",
      "execution_count": null,
      "metadata": {
        "id": "8RonUxcSQf3P"
      },
      "outputs": [],
      "source": [
        "!git clone https://github.com/JerrySchonenberg/CloudGAN.git"
      ]
    },
    {
      "cell_type": "code",
      "execution_count": null,
      "metadata": {
        "id": "wREHddc-I443"
      },
      "outputs": [],
      "source": [
        "%cd CloudGAN"
      ]
    },
    {
      "cell_type": "code",
      "execution_count": null,
      "metadata": {
        "id": "X5bRMAOGQklU"
      },
      "outputs": [],
      "source": [
        "!pip install -r ./requirements.txt"
      ]
    },
    {
      "cell_type": "code",
      "execution_count": null,
      "metadata": {
        "id": "vbWJH5Kws6bC"
      },
      "outputs": [],
      "source": [
        "!pip install protobuf==3.20.* gdown"
      ]
    },
    {
      "cell_type": "code",
      "source": [
        "!gdown https://drive.google.com/uc?id=1R-epuVtogsZoViSGp8__s8g4pw8b94PT"
      ],
      "metadata": {
        "colab": {
          "base_uri": "https://localhost:8080/"
        },
        "id": "3E_v9OvcOa7J",
        "outputId": "a981dc02-7f1b-4faf-c123-18f449aed899"
      },
      "execution_count": 11,
      "outputs": [
        {
          "output_type": "stream",
          "name": "stdout",
          "text": [
            "Downloading...\n",
            "From (original): https://drive.google.com/uc?id=1R-epuVtogsZoViSGp8__s8g4pw8b94PT\n",
            "From (redirected): https://drive.google.com/uc?id=1R-epuVtogsZoViSGp8__s8g4pw8b94PT&confirm=t&uuid=11981f32-ad58-4b7f-9726-5de20297a740\n",
            "To: /content/CloudGAN/prepare_data_for_cloud_GAN.zip\n",
            "100% 591M/591M [00:10<00:00, 56.5MB/s]\n"
          ]
        }
      ]
    },
    {
      "cell_type": "code",
      "source": [
        "!unzip ./prepare_data_for_cloud_GAN.zip"
      ],
      "metadata": {
        "id": "_6JtDphgREW6"
      },
      "execution_count": null,
      "outputs": []
    },
    {
      "cell_type": "code",
      "source": [
        "%cd cloud_detection/networks"
      ],
      "metadata": {
        "colab": {
          "base_uri": "https://localhost:8080/"
        },
        "id": "LHTVPW1IRYGa",
        "outputId": "03caca29-57d3-4c4d-f1c5-08c9e13db915"
      },
      "execution_count": 13,
      "outputs": [
        {
          "output_type": "stream",
          "name": "stdout",
          "text": [
            "/content/CloudGAN/cloud_detection/networks\n"
          ]
        }
      ]
    },
    {
      "cell_type": "code",
      "source": [
        "!python3 main.py --summary --dataset_train \"../../datasets/sentinel2/train/\" --dataset_test \"../../datasets/sentinel2/test/\" --epochs 64 --batch_size 64 --workers 4 --augmentation --mp --model AE --seed 42"
      ],
      "metadata": {
        "id": "du_FDNjVRfCH"
      },
      "execution_count": null,
      "outputs": []
    },
    {
      "cell_type": "code",
      "execution_count": null,
      "metadata": {
        "id": "pD53oPFCtElW"
      },
      "outputs": [],
      "source": [
        "!python3 ./CloudGAN.py --img ./images/tile_0_1280.tif --weights_AE ./checkpoints/ae-checkpoint.h5 --config_AE ./checkpoints/config.json --weights_GAN ./SN-PatchGan-checkpoints --config_GAN ./config/cloud_removal_config.yml --output ./results/tile_0_1280.tif --debug"
      ]
    },
    {
      "cell_type": "code",
      "execution_count": null,
      "metadata": {
        "id": "oDrnTi8lNNA1"
      },
      "outputs": [],
      "source": [
        "!python3 ./CloudGAN.py --img ./images/tile_0_1536.tif --weights_AE ./checkpoints/ae-checkpoint.h5 --config_AE ./checkpoints/config.json --weights_GAN ./SN-PatchGan-checkpoints --config_GAN ./config/cloud_removal_config.yml --output ./results/tile_0_1536.tif --debug"
      ]
    },
    {
      "cell_type": "code",
      "execution_count": null,
      "metadata": {
        "id": "8QEM5O1EmWtr"
      },
      "outputs": [],
      "source": [
        "!python3 ./CloudGAN.py --img ./images/tile_0_6144.tif --weights_AE ./checkpoints/ae-checkpoint.h5 --config_AE ./checkpoints/config.json --weights_GAN ./SN-PatchGan-checkpoints --config_GAN ./config/cloud_removal_config.yml --output ./results/tile_0_6144.tif --debug"
      ]
    },
    {
      "cell_type": "code",
      "source": [
        "!python3 ./CloudGAN.py --img ./images/tile_0_6400.tif --weights_AE ./checkpoints/ae-checkpoint.h5 --config_AE ./checkpoints/config.json --weights_GAN ./SN-PatchGan-checkpoints --config_GAN ./config/cloud_removal_config.yml --output ./results/tile_0_6400.tif --debug"
      ],
      "metadata": {
        "id": "sD51bN5iUGzg"
      },
      "execution_count": null,
      "outputs": []
    },
    {
      "cell_type": "code",
      "source": [
        "!python3 ./CloudGAN.py --img ./images/tile_0_6656.tif --weights_AE ./checkpoints/ae-checkpoint.h5 --config_AE ./checkpoints/config.json --weights_GAN ./SN-PatchGan-checkpoints --config_GAN ./config/cloud_removal_config.yml --output ./results/tile_0_6656.tif --debug"
      ],
      "metadata": {
        "id": "9SFvzX-VUHha"
      },
      "execution_count": null,
      "outputs": []
    },
    {
      "cell_type": "code",
      "source": [
        "!python3 ./CloudGAN.py --img ./images/tile_0_6912.tif --weights_AE ./checkpoints/ae-checkpoint.h5 --config_AE ./checkpoints/config.json --weights_GAN ./SN-PatchGan-checkpoints --config_GAN ./config/cloud_removal_config.yml --output ./results/tile_0_6912.tif --debug"
      ],
      "metadata": {
        "id": "fP34_v2NUIEZ"
      },
      "execution_count": null,
      "outputs": []
    },
    {
      "cell_type": "code",
      "source": [
        "!python3 ./CloudGAN.py --img ./images/tile_0_7168.tif --weights_AE ./checkpoints/ae-checkpoint.h5 --config_AE ./checkpoints/config.json --weights_GAN ./SN-PatchGan-checkpoints --config_GAN ./config/cloud_removal_config.yml --output ./results/tile_0_7168.tif --debug"
      ],
      "metadata": {
        "id": "_yPFDGm1UIKr"
      },
      "execution_count": null,
      "outputs": []
    },
    {
      "cell_type": "code",
      "execution_count": null,
      "metadata": {
        "id": "gLgGb5_CRYiU"
      },
      "outputs": [],
      "source": [
        "!zip -r ./results.zip ./results/"
      ]
    }
  ],
  "metadata": {
    "colab": {
      "provenance": []
    },
    "kernelspec": {
      "display_name": "Python 3",
      "name": "python3"
    },
    "language_info": {
      "name": "python"
    }
  },
  "nbformat": 4,
  "nbformat_minor": 0
}