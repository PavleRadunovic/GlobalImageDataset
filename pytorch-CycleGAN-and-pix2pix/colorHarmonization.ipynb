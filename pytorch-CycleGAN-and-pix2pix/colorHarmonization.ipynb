{
  "nbformat": 4,
  "nbformat_minor": 0,
  "metadata": {
    "colab": {
      "provenance": [],
      "gpuType": "T4"
    },
    "kernelspec": {
      "name": "python3",
      "display_name": "Python 3"
    },
    "language_info": {
      "name": "python"
    },
    "accelerator": "GPU"
  },
  "cells": [
    {
      "cell_type": "code",
      "execution_count": null,
      "metadata": {
        "id": "QpLelfbO45U3"
      },
      "outputs": [],
      "source": [
        "!git clone https://github.com/PavleRadunovic/cycleGan"
      ]
    },
    {
      "cell_type": "code",
      "source": [
        "%cd cycleGan"
      ],
      "metadata": {
        "id": "BGPJ7wdt8Kdw"
      },
      "execution_count": null,
      "outputs": []
    },
    {
      "cell_type": "code",
      "source": [
        "!pip install -r ./requirements.txt"
      ],
      "metadata": {
        "id": "z0tPilYk5Fom"
      },
      "execution_count": null,
      "outputs": []
    },
    {
      "cell_type": "code",
      "source": [
        "!bash ./scripts/download_cyclegan_model.sh map2sat"
      ],
      "metadata": {
        "id": "Vc0A_PCw5L-Z"
      },
      "execution_count": null,
      "outputs": []
    },
    {
      "cell_type": "code",
      "source": [
        "!python ./test.py --dataroot ./datasets/sentinel2/T32TMR_20240803T101559_TCI_10m --name map2sat_pretrained --model test --results_dir ./results/T32TMR_20240803T101559_TCI_10m --num_test 3000 --no_dropout"
      ],
      "metadata": {
        "id": "vcpDFPJz5N0d"
      },
      "execution_count": null,
      "outputs": []
    },
    {
      "cell_type": "code",
      "source": [
        "!python ./test.py --dataroot ./datasets/sentinel2/T32TNR_20240803T101559_TCI_10m --name map2sat_pretrained --model test --results_dir ./results/T32TNR_20240803T101559_TCI_10m --num_test 3000 --no_dropout"
      ],
      "metadata": {
        "id": "R3KRIndtK0IC"
      },
      "execution_count": null,
      "outputs": []
    },
    {
      "cell_type": "code",
      "source": [
        "!zip -r ./results.zip ./results"
      ],
      "metadata": {
        "id": "ycQxTZfCB059"
      },
      "execution_count": null,
      "outputs": []
    }
  ]
}